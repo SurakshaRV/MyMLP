{
 "cells": [
  {
   "cell_type": "code",
   "execution_count": 1,
   "metadata": {},
   "outputs": [
    {
     "name": "stderr",
     "output_type": "stream",
     "text": [
      "Using TensorFlow backend.\n"
     ]
    }
   ],
   "source": [
    "from keras.datasets import mnist\n",
    "import matplotlib.pyplot as plt\n",
    "import tensorflow as tf\n",
    "from PIL import Image\n",
    "import numpy as np\n",
    "import os\n",
    "from keras.regularizers import l2,l1"
   ]
  },
  {
   "cell_type": "code",
   "execution_count": 2,
   "metadata": {},
   "outputs": [],
   "source": [
    "class myCallback(tf.keras.callbacks.Callback):\n",
    "    def on_epoch_end(self,epoch,logs={}):\n",
    "        if(logs.get('acc')>0.998):\n",
    "            print(\"\\n Reached 99.8% accuracy. So cancelling training\")\n",
    "            self.model.stop_training=True"
   ]
  },
  {
   "cell_type": "code",
   "execution_count": 3,
   "metadata": {},
   "outputs": [],
   "source": [
    "(X_train, y_train), (X_test, y_test) = mnist.load_data()  "
   ]
  },
  {
   "cell_type": "code",
   "execution_count": 4,
   "metadata": {},
   "outputs": [],
   "source": [
    "X_train=X_train.reshape(60000, 28, 28, 1)\n",
    "X_test=X_test.reshape(10000, 28, 28, 1)\n",
    "X_train = X_train / 255                      #Normalization - greyscale images contain 255 pixels(speeds up the process)\n",
    "X_test = X_test / 255"
   ]
  },
  {
   "cell_type": "code",
   "execution_count": 5,
   "metadata": {},
   "outputs": [],
   "source": [
    "callback = myCallback()"
   ]
  },
  {
   "cell_type": "code",
   "execution_count": 6,
   "metadata": {},
   "outputs": [
    {
     "name": "stderr",
     "output_type": "stream",
     "text": [
      "WARNING: Logging before flag parsing goes to stderr.\n",
      "W0821 22:31:32.264965 11120 deprecation.py:506] From C:\\Users\\user\\Anaconda3\\envs\\tensorflow\\lib\\site-packages\\tensorflow\\python\\ops\\init_ops.py:1251: calling VarianceScaling.__init__ (from tensorflow.python.ops.init_ops) with dtype is deprecated and will be removed in a future version.\n",
      "Instructions for updating:\n",
      "Call initializer instance with the dtype argument instead of passing it to the constructor\n"
     ]
    }
   ],
   "source": [
    "model = tf.keras.models.Sequential([\n",
    "    tf.keras.layers.Conv2D(16,(3,3),input_shape=(28,28,1),activation=\"relu\",kernel_regularizer=l2(0.01),activity_regularizer=l1(0.01)),\n",
    "    tf.keras.layers.MaxPooling2D(2,2),\n",
    "    tf.keras.layers.Flatten(),                                              #Sequential layers\n",
    "    tf.keras.layers.Dense(64, activation=\"relu\"),\n",
    "    tf.keras.layers.Dense(10, activation=\"softmax\")])"
   ]
  },
  {
   "cell_type": "code",
   "execution_count": 9,
   "metadata": {},
   "outputs": [
    {
     "name": "stdout",
     "output_type": "stream",
     "text": [
      "Model: \"sequential\"\n",
      "_________________________________________________________________\n",
      "Layer (type)                 Output Shape              Param #   \n",
      "=================================================================\n",
      "conv2d (Conv2D)              (None, 26, 26, 16)        160       \n",
      "_________________________________________________________________\n",
      "max_pooling2d (MaxPooling2D) (None, 13, 13, 16)        0         \n",
      "_________________________________________________________________\n",
      "flatten (Flatten)            (None, 2704)              0         \n",
      "_________________________________________________________________\n",
      "dense (Dense)                (None, 64)                173120    \n",
      "_________________________________________________________________\n",
      "dense_1 (Dense)              (None, 10)                650       \n",
      "=================================================================\n",
      "Total params: 173,930\n",
      "Trainable params: 173,930\n",
      "Non-trainable params: 0\n",
      "_________________________________________________________________\n"
     ]
    }
   ],
   "source": [
    "model.summary()"
   ]
  },
  {
   "cell_type": "code",
   "execution_count": 7,
   "metadata": {},
   "outputs": [],
   "source": [
    "model.compile(optimizer = \"adam\", loss=\"sparse_categorical_crossentropy\", metrics = [\"accuracy\"])"
   ]
  },
  {
   "cell_type": "code",
   "execution_count": 8,
   "metadata": {},
   "outputs": [
    {
     "name": "stdout",
     "output_type": "stream",
     "text": [
      "Train on 54000 samples, validate on 6000 samples\n",
      "Epoch 1/20\n",
      "54000/54000 [==============================] - 21s 397us/sample - loss: 0.5543 - acc: 0.9346 - val_loss: 0.2312 - val_acc: 0.9733\n",
      "Epoch 2/20\n",
      "54000/54000 [==============================] - 21s 395us/sample - loss: 0.2144 - acc: 0.9697 - val_loss: 0.1760 - val_acc: 0.9778\n",
      "Epoch 3/20\n",
      "54000/54000 [==============================] - 22s 400us/sample - loss: 0.1672 - acc: 0.9755 - val_loss: 0.1496 - val_acc: 0.9797\n",
      "Epoch 4/20\n",
      "54000/54000 [==============================] - 21s 391us/sample - loss: 0.1420 - acc: 0.9788 - val_loss: 0.1338 - val_acc: 0.9812\n",
      "Epoch 5/20\n",
      "54000/54000 [==============================] - 24s 439us/sample - loss: 0.1261 - acc: 0.9811 - val_loss: 0.1422 - val_acc: 0.9777\n",
      "Epoch 6/20\n",
      "54000/54000 [==============================] - 21s 385us/sample - loss: 0.1144 - acc: 0.9835 - val_loss: 0.1177 - val_acc: 0.9795\n",
      "Epoch 7/20\n",
      "54000/54000 [==============================] - 20s 378us/sample - loss: 0.1052 - acc: 0.9847 - val_loss: 0.1142 - val_acc: 0.9808\n",
      "Epoch 8/20\n",
      "54000/54000 [==============================] - 20s 374us/sample - loss: 0.0973 - acc: 0.9861 - val_loss: 0.1162 - val_acc: 0.9793\n",
      "Epoch 9/20\n",
      "54000/54000 [==============================] - 20s 367us/sample - loss: 0.0918 - acc: 0.9865 - val_loss: 0.1077 - val_acc: 0.9795\n",
      "Epoch 10/20\n",
      "54000/54000 [==============================] - 20s 372us/sample - loss: 0.0862 - acc: 0.9873 - val_loss: 0.1103 - val_acc: 0.9797\n",
      "Epoch 11/20\n",
      "54000/54000 [==============================] - 20s 379us/sample - loss: 0.0819 - acc: 0.9888 - val_loss: 0.1160 - val_acc: 0.9787\n",
      "Epoch 12/20\n",
      "54000/54000 [==============================] - 21s 383us/sample - loss: 0.0779 - acc: 0.9889 - val_loss: 0.1072 - val_acc: 0.9800\n",
      "Epoch 13/20\n",
      "54000/54000 [==============================] - 20s 366us/sample - loss: 0.0738 - acc: 0.9900 - val_loss: 0.1037 - val_acc: 0.9808\n",
      "Epoch 14/20\n",
      "54000/54000 [==============================] - 20s 376us/sample - loss: 0.0706 - acc: 0.9908 - val_loss: 0.1161 - val_acc: 0.9792\n",
      "Epoch 15/20\n",
      "54000/54000 [==============================] - 21s 384us/sample - loss: 0.0683 - acc: 0.9915 - val_loss: 0.1121 - val_acc: 0.9772\n",
      "Epoch 16/20\n",
      "54000/54000 [==============================] - 21s 387us/sample - loss: 0.0652 - acc: 0.9919 - val_loss: 0.1022 - val_acc: 0.9793\n",
      "Epoch 17/20\n",
      "54000/54000 [==============================] - 20s 377us/sample - loss: 0.0637 - acc: 0.9921 - val_loss: 0.1036 - val_acc: 0.9788\n",
      "Epoch 18/20\n",
      "54000/54000 [==============================] - 22s 403us/sample - loss: 0.0605 - acc: 0.9931 - val_loss: 0.1015 - val_acc: 0.9795\n",
      "Epoch 19/20\n",
      "54000/54000 [==============================] - 20s 376us/sample - loss: 0.0590 - acc: 0.9930 - val_loss: 0.1036 - val_acc: 0.9802\n",
      "Epoch 20/20\n",
      "54000/54000 [==============================] - 21s 382us/sample - loss: 0.0568 - acc: 0.9934 - val_loss: 0.1010 - val_acc: 0.9817\n"
     ]
    },
    {
     "data": {
      "text/plain": [
       "<tensorflow.python.keras.callbacks.History at 0x188b8688438>"
      ]
     },
     "execution_count": 8,
     "metadata": {},
     "output_type": "execute_result"
    }
   ],
   "source": [
    "model.fit(X_train, y_train, epochs = 20, validation_split=0.1, callbacks = [callback])"
   ]
  },
  {
   "cell_type": "code",
   "execution_count": 12,
   "metadata": {},
   "outputs": [
    {
     "name": "stdout",
     "output_type": "stream",
     "text": [
      "10000/10000 [==============================] - 1s 116us/sample - loss: 0.1078 - acc: 0.9774\n"
     ]
    },
    {
     "data": {
      "text/plain": [
       "[0.10777754781842232, 0.9774]"
      ]
     },
     "execution_count": 12,
     "metadata": {},
     "output_type": "execute_result"
    }
   ],
   "source": [
    "model.evaluate(x = X_test, y = y_test , verbose = 1)"
   ]
  },
  {
   "cell_type": "code",
   "execution_count": 13,
   "metadata": {},
   "outputs": [
    {
     "data": {
      "text/plain": [
       "['loss', 'acc']"
      ]
     },
     "execution_count": 13,
     "metadata": {},
     "output_type": "execute_result"
    }
   ],
   "source": [
    "model.metrics_names"
   ]
  },
  {
   "cell_type": "code",
   "execution_count": 15,
   "metadata": {},
   "outputs": [
    {
     "name": "stdout",
     "output_type": "stream",
     "text": [
      "[3]\n"
     ]
    }
   ],
   "source": [
    "img = Image.open('C:\\\\Users\\\\user\\\\Documents\\\\ML\\\\MLProjects\\\\digits/5.png').convert(\"L\")\n",
    "img = img.resize((28,28))\n",
    "im2arr = np.array(img)\n",
    "#print(im2arr)\n",
    "im2arr = im2arr.reshape(1,28,28,1)\n",
    "y_pred = model.predict_classes(im2arr)\n",
    "print(y_pred)"
   ]
  },
  {
   "cell_type": "code",
   "execution_count": 14,
   "metadata": {},
   "outputs": [],
   "source": [
    "import struct\n",
    "\n",
    "import numpy as np\n",
    "\n",
    "def read_idx(filename):\n",
    "    with open(filename, 'rb') as f:\n",
    "        zero, data_type, dims = struct.unpack('>HBB', f.read(4))\n",
    "        shape = tuple(struct.unpack('>I', f.read(4))[0] for d in range(dims))\n",
    "        return np.fromstring(f.read(), dtype=np.uint8).reshape(shape)"
   ]
  },
  {
   "cell_type": "code",
   "execution_count": null,
   "metadata": {},
   "outputs": [],
   "source": []
  }
 ],
 "metadata": {
  "kernelspec": {
   "display_name": "Python 3",
   "language": "python",
   "name": "python3"
  },
  "language_info": {
   "codemirror_mode": {
    "name": "ipython",
    "version": 3
   },
   "file_extension": ".py",
   "mimetype": "text/x-python",
   "name": "python",
   "nbconvert_exporter": "python",
   "pygments_lexer": "ipython3",
   "version": "3.6.8"
  }
 },
 "nbformat": 4,
 "nbformat_minor": 2
}
